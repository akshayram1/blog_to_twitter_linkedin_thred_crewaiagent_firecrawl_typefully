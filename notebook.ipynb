{
 "cells": [
  {
   "cell_type": "markdown",
   "metadata": {},
   "source": [
    "# Content Planning and Publishing Crew"
   ]
  },
  {
   "cell_type": "markdown",
   "metadata": {},
   "source": [
    "This notebook demonstrates how to create an AI crew for planning and publishing content using CrewAI Flows.\n",
    "The crew will take a link to blog post, download content as markdown using firecrawl, analyze it and generate a twitter thread and schedule it on Typefully."
   ]
  },
  {
   "cell_type": "markdown",
   "metadata": {},
   "source": [
    "### Initialization and Setup\n",
    "Initial imports for the CrewAI Flow and Crew and setting up the environment"
   ]
  },
  {
   "cell_type": "code",
   "execution_count": 55,
   "metadata": {},
   "outputs": [
    {
     "name": "stdout",
     "output_type": "stream",
     "text": [
      "Requirement already satisfied: firecrawl in e:\\qed42\\crewai_agent\\content_planner_flow\\venv\\lib\\site-packages (1.6.8)\n",
      "Requirement already satisfied: requests in e:\\qed42\\crewai_agent\\content_planner_flow\\venv\\lib\\site-packages (from firecrawl) (2.32.3)\n",
      "Requirement already satisfied: python-dotenv in e:\\qed42\\crewai_agent\\content_planner_flow\\venv\\lib\\site-packages (from firecrawl) (1.0.1)\n",
      "Requirement already satisfied: websockets in e:\\qed42\\crewai_agent\\content_planner_flow\\venv\\lib\\site-packages (from firecrawl) (14.1)\n",
      "Requirement already satisfied: nest-asyncio in e:\\qed42\\crewai_agent\\content_planner_flow\\venv\\lib\\site-packages (from firecrawl) (1.6.0)\n",
      "Requirement already satisfied: charset-normalizer<4,>=2 in e:\\qed42\\crewai_agent\\content_planner_flow\\venv\\lib\\site-packages (from requests->firecrawl) (3.4.0)\n",
      "Requirement already satisfied: idna<4,>=2.5 in e:\\qed42\\crewai_agent\\content_planner_flow\\venv\\lib\\site-packages (from requests->firecrawl) (3.10)\n",
      "Requirement already satisfied: urllib3<3,>=1.21.1 in e:\\qed42\\crewai_agent\\content_planner_flow\\venv\\lib\\site-packages (from requests->firecrawl) (2.3.0)\n",
      "Requirement already satisfied: certifi>=2017.4.17 in e:\\qed42\\crewai_agent\\content_planner_flow\\venv\\lib\\site-packages (from requests->firecrawl) (2024.12.14)\n"
     ]
    },
    {
     "name": "stderr",
     "output_type": "stream",
     "text": [
      "\n",
      "[notice] A new release of pip is available: 23.2.1 -> 24.3.1\n",
      "[notice] To update, run: python.exe -m pip install --upgrade pip\n"
     ]
    }
   ],
   "source": [
    "!pip install firecrawl"
   ]
  },
  {
   "cell_type": "code",
   "execution_count": 56,
   "metadata": {},
   "outputs": [
    {
     "name": "stdout",
     "output_type": "stream",
     "text": [
      "Requirement already satisfied: crewai[tools] in e:\\qed42\\crewai_agent\\content_planner_flow\\venv\\lib\\site-packages (0.86.0)\n",
      "Requirement already satisfied: appdirs>=1.4.4 in e:\\qed42\\crewai_agent\\content_planner_flow\\venv\\lib\\site-packages (from crewai[tools]) (1.4.4)\n",
      "Requirement already satisfied: auth0-python>=4.7.1 in e:\\qed42\\crewai_agent\\content_planner_flow\\venv\\lib\\site-packages (from crewai[tools]) (4.7.2)\n",
      "Requirement already satisfied: chromadb>=0.5.18 in e:\\qed42\\crewai_agent\\content_planner_flow\\venv\\lib\\site-packages (from crewai[tools]) (0.5.23)\n",
      "Requirement already satisfied: click>=8.1.7 in e:\\qed42\\crewai_agent\\content_planner_flow\\venv\\lib\\site-packages (from crewai[tools]) (8.1.8)\n",
      "Requirement already satisfied: crewai-tools>=0.17.0 in e:\\qed42\\crewai_agent\\content_planner_flow\\venv\\lib\\site-packages (from crewai[tools]) (0.17.0)\n",
      "Requirement already satisfied: instructor>=1.3.3 in e:\\qed42\\crewai_agent\\content_planner_flow\\venv\\lib\\site-packages (from crewai[tools]) (1.7.0)\n",
      "Requirement already satisfied: json-repair>=0.25.2 in e:\\qed42\\crewai_agent\\content_planner_flow\\venv\\lib\\site-packages (from crewai[tools]) (0.32.0)\n",
      "Requirement already satisfied: jsonref>=1.1.0 in e:\\qed42\\crewai_agent\\content_planner_flow\\venv\\lib\\site-packages (from crewai[tools]) (1.1.0)\n",
      "Requirement already satisfied: litellm>=1.44.22 in e:\\qed42\\crewai_agent\\content_planner_flow\\venv\\lib\\site-packages (from crewai[tools]) (1.55.9)\n",
      "Requirement already satisfied: openai>=1.13.3 in e:\\qed42\\crewai_agent\\content_planner_flow\\venv\\lib\\site-packages (from crewai[tools]) (1.58.1)\n",
      "Requirement already satisfied: openpyxl>=3.1.5 in e:\\qed42\\crewai_agent\\content_planner_flow\\venv\\lib\\site-packages (from crewai[tools]) (3.1.5)\n",
      "Requirement already satisfied: opentelemetry-api>=1.22.0 in e:\\qed42\\crewai_agent\\content_planner_flow\\venv\\lib\\site-packages (from crewai[tools]) (1.29.0)\n",
      "Requirement already satisfied: opentelemetry-exporter-otlp-proto-http>=1.22.0 in e:\\qed42\\crewai_agent\\content_planner_flow\\venv\\lib\\site-packages (from crewai[tools]) (1.29.0)\n",
      "Requirement already satisfied: opentelemetry-sdk>=1.22.0 in e:\\qed42\\crewai_agent\\content_planner_flow\\venv\\lib\\site-packages (from crewai[tools]) (1.29.0)\n",
      "Requirement already satisfied: pdfplumber>=0.11.4 in e:\\qed42\\crewai_agent\\content_planner_flow\\venv\\lib\\site-packages (from crewai[tools]) (0.11.4)\n",
      "Requirement already satisfied: pydantic>=2.4.2 in e:\\qed42\\crewai_agent\\content_planner_flow\\venv\\lib\\site-packages (from crewai[tools]) (2.10.4)\n",
      "Requirement already satisfied: python-dotenv>=1.0.0 in e:\\qed42\\crewai_agent\\content_planner_flow\\venv\\lib\\site-packages (from crewai[tools]) (1.0.1)\n",
      "Requirement already satisfied: pyvis>=0.3.2 in e:\\qed42\\crewai_agent\\content_planner_flow\\venv\\lib\\site-packages (from crewai[tools]) (0.3.2)\n",
      "Requirement already satisfied: regex>=2024.9.11 in e:\\qed42\\crewai_agent\\content_planner_flow\\venv\\lib\\site-packages (from crewai[tools]) (2024.11.6)\n",
      "Requirement already satisfied: tomli-w>=1.1.0 in e:\\qed42\\crewai_agent\\content_planner_flow\\venv\\lib\\site-packages (from crewai[tools]) (1.1.0)\n",
      "Requirement already satisfied: tomli>=2.0.2 in e:\\qed42\\crewai_agent\\content_planner_flow\\venv\\lib\\site-packages (from crewai[tools]) (2.2.1)\n",
      "Requirement already satisfied: uv>=0.4.25 in e:\\qed42\\crewai_agent\\content_planner_flow\\venv\\lib\\site-packages (from crewai[tools]) (0.5.11)\n",
      "Requirement already satisfied: aiohttp<4.0.0,>=3.8.5 in e:\\qed42\\crewai_agent\\content_planner_flow\\venv\\lib\\site-packages (from auth0-python>=4.7.1->crewai[tools]) (3.11.11)\n",
      "Requirement already satisfied: cryptography<44.0.0,>=43.0.1 in e:\\qed42\\crewai_agent\\content_planner_flow\\venv\\lib\\site-packages (from auth0-python>=4.7.1->crewai[tools]) (43.0.3)\n",
      "Requirement already satisfied: pyjwt<3.0.0,>=2.8.0 in e:\\qed42\\crewai_agent\\content_planner_flow\\venv\\lib\\site-packages (from auth0-python>=4.7.1->crewai[tools]) (2.10.1)\n",
      "Requirement already satisfied: requests<3.0.0,>=2.31.0 in e:\\qed42\\crewai_agent\\content_planner_flow\\venv\\lib\\site-packages (from auth0-python>=4.7.1->crewai[tools]) (2.32.3)\n",
      "Requirement already satisfied: urllib3<3.0.0,>=2.0.7 in e:\\qed42\\crewai_agent\\content_planner_flow\\venv\\lib\\site-packages (from auth0-python>=4.7.1->crewai[tools]) (2.3.0)\n",
      "Requirement already satisfied: build>=1.0.3 in e:\\qed42\\crewai_agent\\content_planner_flow\\venv\\lib\\site-packages (from chromadb>=0.5.18->crewai[tools]) (1.2.2.post1)\n",
      "Requirement already satisfied: chroma-hnswlib==0.7.6 in e:\\qed42\\crewai_agent\\content_planner_flow\\venv\\lib\\site-packages (from chromadb>=0.5.18->crewai[tools]) (0.7.6)\n",
      "Requirement already satisfied: fastapi>=0.95.2 in e:\\qed42\\crewai_agent\\content_planner_flow\\venv\\lib\\site-packages (from chromadb>=0.5.18->crewai[tools]) (0.115.6)\n",
      "Requirement already satisfied: uvicorn[standard]>=0.18.3 in e:\\qed42\\crewai_agent\\content_planner_flow\\venv\\lib\\site-packages (from chromadb>=0.5.18->crewai[tools]) (0.34.0)\n",
      "Requirement already satisfied: numpy>=1.22.5 in e:\\qed42\\crewai_agent\\content_planner_flow\\venv\\lib\\site-packages (from chromadb>=0.5.18->crewai[tools]) (1.26.4)\n",
      "Requirement already satisfied: posthog>=2.4.0 in e:\\qed42\\crewai_agent\\content_planner_flow\\venv\\lib\\site-packages (from chromadb>=0.5.18->crewai[tools]) (3.7.4)\n",
      "Requirement already satisfied: typing_extensions>=4.5.0 in e:\\qed42\\crewai_agent\\content_planner_flow\\venv\\lib\\site-packages (from chromadb>=0.5.18->crewai[tools]) (4.12.2)\n",
      "Requirement already satisfied: onnxruntime>=1.14.1 in e:\\qed42\\crewai_agent\\content_planner_flow\\venv\\lib\\site-packages (from chromadb>=0.5.18->crewai[tools]) (1.20.1)\n",
      "Requirement already satisfied: opentelemetry-exporter-otlp-proto-grpc>=1.2.0 in e:\\qed42\\crewai_agent\\content_planner_flow\\venv\\lib\\site-packages (from chromadb>=0.5.18->crewai[tools]) (1.29.0)\n",
      "Requirement already satisfied: opentelemetry-instrumentation-fastapi>=0.41b0 in e:\\qed42\\crewai_agent\\content_planner_flow\\venv\\lib\\site-packages (from chromadb>=0.5.18->crewai[tools]) (0.50b0)\n",
      "Requirement already satisfied: tokenizers<=0.20.3,>=0.13.2 in e:\\qed42\\crewai_agent\\content_planner_flow\\venv\\lib\\site-packages (from chromadb>=0.5.18->crewai[tools]) (0.20.3)\n",
      "Requirement already satisfied: pypika>=0.48.9 in e:\\qed42\\crewai_agent\\content_planner_flow\\venv\\lib\\site-packages (from chromadb>=0.5.18->crewai[tools]) (0.48.9)\n",
      "Requirement already satisfied: tqdm>=4.65.0 in e:\\qed42\\crewai_agent\\content_planner_flow\\venv\\lib\\site-packages (from chromadb>=0.5.18->crewai[tools]) (4.67.1)\n",
      "Requirement already satisfied: overrides>=7.3.1 in e:\\qed42\\crewai_agent\\content_planner_flow\\venv\\lib\\site-packages (from chromadb>=0.5.18->crewai[tools]) (7.7.0)\n",
      "Requirement already satisfied: importlib-resources in e:\\qed42\\crewai_agent\\content_planner_flow\\venv\\lib\\site-packages (from chromadb>=0.5.18->crewai[tools]) (6.4.5)\n",
      "Requirement already satisfied: grpcio>=1.58.0 in e:\\qed42\\crewai_agent\\content_planner_flow\\venv\\lib\\site-packages (from chromadb>=0.5.18->crewai[tools]) (1.68.1)\n",
      "Requirement already satisfied: bcrypt>=4.0.1 in e:\\qed42\\crewai_agent\\content_planner_flow\\venv\\lib\\site-packages (from chromadb>=0.5.18->crewai[tools]) (4.2.1)\n",
      "Requirement already satisfied: typer>=0.9.0 in e:\\qed42\\crewai_agent\\content_planner_flow\\venv\\lib\\site-packages (from chromadb>=0.5.18->crewai[tools]) (0.15.1)\n",
      "Requirement already satisfied: kubernetes>=28.1.0 in e:\\qed42\\crewai_agent\\content_planner_flow\\venv\\lib\\site-packages (from chromadb>=0.5.18->crewai[tools]) (31.0.0)\n",
      "Requirement already satisfied: tenacity>=8.2.3 in e:\\qed42\\crewai_agent\\content_planner_flow\\venv\\lib\\site-packages (from chromadb>=0.5.18->crewai[tools]) (9.0.0)\n",
      "Requirement already satisfied: PyYAML>=6.0.0 in e:\\qed42\\crewai_agent\\content_planner_flow\\venv\\lib\\site-packages (from chromadb>=0.5.18->crewai[tools]) (6.0.2)\n",
      "Requirement already satisfied: mmh3>=4.0.1 in e:\\qed42\\crewai_agent\\content_planner_flow\\venv\\lib\\site-packages (from chromadb>=0.5.18->crewai[tools]) (5.0.1)\n",
      "Requirement already satisfied: orjson>=3.9.12 in e:\\qed42\\crewai_agent\\content_planner_flow\\venv\\lib\\site-packages (from chromadb>=0.5.18->crewai[tools]) (3.10.12)\n",
      "Requirement already satisfied: httpx>=0.27.0 in e:\\qed42\\crewai_agent\\content_planner_flow\\venv\\lib\\site-packages (from chromadb>=0.5.18->crewai[tools]) (0.27.2)\n",
      "Requirement already satisfied: rich>=10.11.0 in e:\\qed42\\crewai_agent\\content_planner_flow\\venv\\lib\\site-packages (from chromadb>=0.5.18->crewai[tools]) (13.9.4)\n",
      "Requirement already satisfied: colorama in e:\\qed42\\crewai_agent\\content_planner_flow\\venv\\lib\\site-packages (from click>=8.1.7->crewai[tools]) (0.4.6)\n",
      "Requirement already satisfied: beautifulsoup4>=4.12.3 in e:\\qed42\\crewai_agent\\content_planner_flow\\venv\\lib\\site-packages (from crewai-tools>=0.17.0->crewai[tools]) (4.12.3)\n",
      "Requirement already satisfied: docker>=7.1.0 in e:\\qed42\\crewai_agent\\content_planner_flow\\venv\\lib\\site-packages (from crewai-tools>=0.17.0->crewai[tools]) (7.1.0)\n",
      "Requirement already satisfied: docx2txt>=0.8 in e:\\qed42\\crewai_agent\\content_planner_flow\\venv\\lib\\site-packages (from crewai-tools>=0.17.0->crewai[tools]) (0.8)\n",
      "Requirement already satisfied: embedchain>=0.1.114 in e:\\qed42\\crewai_agent\\content_planner_flow\\venv\\lib\\site-packages (from crewai-tools>=0.17.0->crewai[tools]) (0.1.125)\n",
      "Requirement already satisfied: lancedb>=0.5.4 in e:\\qed42\\crewai_agent\\content_planner_flow\\venv\\lib\\site-packages (from crewai-tools>=0.17.0->crewai[tools]) (0.17.0)\n",
      "Requirement already satisfied: pyright>=1.1.350 in e:\\qed42\\crewai_agent\\content_planner_flow\\venv\\lib\\site-packages (from crewai-tools>=0.17.0->crewai[tools]) (1.1.391)\n",
      "Requirement already satisfied: pytest>=8.0.0 in e:\\qed42\\crewai_agent\\content_planner_flow\\venv\\lib\\site-packages (from crewai-tools>=0.17.0->crewai[tools]) (8.3.4)\n",
      "Requirement already satisfied: pytube>=15.0.0 in e:\\qed42\\crewai_agent\\content_planner_flow\\venv\\lib\\site-packages (from crewai-tools>=0.17.0->crewai[tools]) (15.0.0)\n",
      "Requirement already satisfied: selenium>=4.18.1 in e:\\qed42\\crewai_agent\\content_planner_flow\\venv\\lib\\site-packages (from crewai-tools>=0.17.0->crewai[tools]) (4.27.1)\n",
      "Requirement already satisfied: docstring-parser<0.17,>=0.16 in e:\\qed42\\crewai_agent\\content_planner_flow\\venv\\lib\\site-packages (from instructor>=1.3.3->crewai[tools]) (0.16)\n",
      "Requirement already satisfied: jinja2<4.0.0,>=3.1.4 in e:\\qed42\\crewai_agent\\content_planner_flow\\venv\\lib\\site-packages (from instructor>=1.3.3->crewai[tools]) (3.1.5)\n",
      "Requirement already satisfied: jiter<0.7,>=0.6.1 in e:\\qed42\\crewai_agent\\content_planner_flow\\venv\\lib\\site-packages (from instructor>=1.3.3->crewai[tools]) (0.6.1)\n",
      "Requirement already satisfied: pydantic-core<3.0.0,>=2.18.0 in e:\\qed42\\crewai_agent\\content_planner_flow\\venv\\lib\\site-packages (from instructor>=1.3.3->crewai[tools]) (2.27.2)\n",
      "Requirement already satisfied: importlib-metadata>=6.8.0 in e:\\qed42\\crewai_agent\\content_planner_flow\\venv\\lib\\site-packages (from litellm>=1.44.22->crewai[tools]) (8.5.0)\n",
      "Requirement already satisfied: jsonschema<5.0.0,>=4.22.0 in e:\\qed42\\crewai_agent\\content_planner_flow\\venv\\lib\\site-packages (from litellm>=1.44.22->crewai[tools]) (4.23.0)\n",
      "Requirement already satisfied: tiktoken>=0.7.0 in e:\\qed42\\crewai_agent\\content_planner_flow\\venv\\lib\\site-packages (from litellm>=1.44.22->crewai[tools]) (0.7.0)\n",
      "Requirement already satisfied: anyio<5,>=3.5.0 in e:\\qed42\\crewai_agent\\content_planner_flow\\venv\\lib\\site-packages (from openai>=1.13.3->crewai[tools]) (4.7.0)\n",
      "Requirement already satisfied: distro<2,>=1.7.0 in e:\\qed42\\crewai_agent\\content_planner_flow\\venv\\lib\\site-packages (from openai>=1.13.3->crewai[tools]) (1.9.0)\n",
      "Requirement already satisfied: sniffio in e:\\qed42\\crewai_agent\\content_planner_flow\\venv\\lib\\site-packages (from openai>=1.13.3->crewai[tools]) (1.3.1)\n",
      "Requirement already satisfied: et-xmlfile in e:\\qed42\\crewai_agent\\content_planner_flow\\venv\\lib\\site-packages (from openpyxl>=3.1.5->crewai[tools]) (2.0.0)\n",
      "Requirement already satisfied: deprecated>=1.2.6 in e:\\qed42\\crewai_agent\\content_planner_flow\\venv\\lib\\site-packages (from opentelemetry-api>=1.22.0->crewai[tools]) (1.2.15)\n",
      "Requirement already satisfied: googleapis-common-protos~=1.52 in e:\\qed42\\crewai_agent\\content_planner_flow\\venv\\lib\\site-packages (from opentelemetry-exporter-otlp-proto-http>=1.22.0->crewai[tools]) (1.66.0)\n",
      "Requirement already satisfied: opentelemetry-exporter-otlp-proto-common==1.29.0 in e:\\qed42\\crewai_agent\\content_planner_flow\\venv\\lib\\site-packages (from opentelemetry-exporter-otlp-proto-http>=1.22.0->crewai[tools]) (1.29.0)\n",
      "Requirement already satisfied: opentelemetry-proto==1.29.0 in e:\\qed42\\crewai_agent\\content_planner_flow\\venv\\lib\\site-packages (from opentelemetry-exporter-otlp-proto-http>=1.22.0->crewai[tools]) (1.29.0)\n",
      "Requirement already satisfied: protobuf<6.0,>=5.0 in e:\\qed42\\crewai_agent\\content_planner_flow\\venv\\lib\\site-packages (from opentelemetry-proto==1.29.0->opentelemetry-exporter-otlp-proto-http>=1.22.0->crewai[tools]) (5.29.2)\n",
      "Requirement already satisfied: opentelemetry-semantic-conventions==0.50b0 in e:\\qed42\\crewai_agent\\content_planner_flow\\venv\\lib\\site-packages (from opentelemetry-sdk>=1.22.0->crewai[tools]) (0.50b0)\n",
      "Requirement already satisfied: pdfminer.six==20231228 in e:\\qed42\\crewai_agent\\content_planner_flow\\venv\\lib\\site-packages (from pdfplumber>=0.11.4->crewai[tools]) (20231228)\n",
      "Requirement already satisfied: Pillow>=9.1 in e:\\qed42\\crewai_agent\\content_planner_flow\\venv\\lib\\site-packages (from pdfplumber>=0.11.4->crewai[tools]) (11.0.0)\n",
      "Requirement already satisfied: pypdfium2>=4.18.0 in e:\\qed42\\crewai_agent\\content_planner_flow\\venv\\lib\\site-packages (from pdfplumber>=0.11.4->crewai[tools]) (4.30.1)\n",
      "Requirement already satisfied: charset-normalizer>=2.0.0 in e:\\qed42\\crewai_agent\\content_planner_flow\\venv\\lib\\site-packages (from pdfminer.six==20231228->pdfplumber>=0.11.4->crewai[tools]) (3.4.0)\n",
      "Requirement already satisfied: annotated-types>=0.6.0 in e:\\qed42\\crewai_agent\\content_planner_flow\\venv\\lib\\site-packages (from pydantic>=2.4.2->crewai[tools]) (0.7.0)\n",
      "Requirement already satisfied: ipython>=5.3.0 in e:\\qed42\\crewai_agent\\content_planner_flow\\venv\\lib\\site-packages (from pyvis>=0.3.2->crewai[tools]) (8.31.0)\n",
      "Requirement already satisfied: jsonpickle>=1.4.1 in e:\\qed42\\crewai_agent\\content_planner_flow\\venv\\lib\\site-packages (from pyvis>=0.3.2->crewai[tools]) (4.0.1)\n",
      "Requirement already satisfied: networkx>=1.11 in e:\\qed42\\crewai_agent\\content_planner_flow\\venv\\lib\\site-packages (from pyvis>=0.3.2->crewai[tools]) (3.4.2)\n",
      "Requirement already satisfied: aiohappyeyeballs>=2.3.0 in e:\\qed42\\crewai_agent\\content_planner_flow\\venv\\lib\\site-packages (from aiohttp<4.0.0,>=3.8.5->auth0-python>=4.7.1->crewai[tools]) (2.4.4)\n",
      "Requirement already satisfied: aiosignal>=1.1.2 in e:\\qed42\\crewai_agent\\content_planner_flow\\venv\\lib\\site-packages (from aiohttp<4.0.0,>=3.8.5->auth0-python>=4.7.1->crewai[tools]) (1.3.2)\n",
      "Requirement already satisfied: attrs>=17.3.0 in e:\\qed42\\crewai_agent\\content_planner_flow\\venv\\lib\\site-packages (from aiohttp<4.0.0,>=3.8.5->auth0-python>=4.7.1->crewai[tools]) (24.3.0)\n",
      "Requirement already satisfied: frozenlist>=1.1.1 in e:\\qed42\\crewai_agent\\content_planner_flow\\venv\\lib\\site-packages (from aiohttp<4.0.0,>=3.8.5->auth0-python>=4.7.1->crewai[tools]) (1.5.0)\n",
      "Requirement already satisfied: multidict<7.0,>=4.5 in e:\\qed42\\crewai_agent\\content_planner_flow\\venv\\lib\\site-packages (from aiohttp<4.0.0,>=3.8.5->auth0-python>=4.7.1->crewai[tools]) (6.1.0)\n",
      "Requirement already satisfied: propcache>=0.2.0 in e:\\qed42\\crewai_agent\\content_planner_flow\\venv\\lib\\site-packages (from aiohttp<4.0.0,>=3.8.5->auth0-python>=4.7.1->crewai[tools]) (0.2.1)\n",
      "Requirement already satisfied: yarl<2.0,>=1.17.0 in e:\\qed42\\crewai_agent\\content_planner_flow\\venv\\lib\\site-packages (from aiohttp<4.0.0,>=3.8.5->auth0-python>=4.7.1->crewai[tools]) (1.18.3)\n",
      "Requirement already satisfied: idna>=2.8 in e:\\qed42\\crewai_agent\\content_planner_flow\\venv\\lib\\site-packages (from anyio<5,>=3.5.0->openai>=1.13.3->crewai[tools]) (3.10)\n",
      "Requirement already satisfied: soupsieve>1.2 in e:\\qed42\\crewai_agent\\content_planner_flow\\venv\\lib\\site-packages (from beautifulsoup4>=4.12.3->crewai-tools>=0.17.0->crewai[tools]) (2.6)\n",
      "Requirement already satisfied: packaging>=19.1 in e:\\qed42\\crewai_agent\\content_planner_flow\\venv\\lib\\site-packages (from build>=1.0.3->chromadb>=0.5.18->crewai[tools]) (24.2)\n",
      "Requirement already satisfied: pyproject_hooks in e:\\qed42\\crewai_agent\\content_planner_flow\\venv\\lib\\site-packages (from build>=1.0.3->chromadb>=0.5.18->crewai[tools]) (1.2.0)\n",
      "Requirement already satisfied: cffi>=1.12 in e:\\qed42\\crewai_agent\\content_planner_flow\\venv\\lib\\site-packages (from cryptography<44.0.0,>=43.0.1->auth0-python>=4.7.1->crewai[tools]) (1.17.1)\n",
      "Requirement already satisfied: wrapt<2,>=1.10 in e:\\qed42\\crewai_agent\\content_planner_flow\\venv\\lib\\site-packages (from deprecated>=1.2.6->opentelemetry-api>=1.22.0->crewai[tools]) (1.17.0)\n",
      "Requirement already satisfied: pywin32>=304 in e:\\qed42\\crewai_agent\\content_planner_flow\\venv\\lib\\site-packages (from docker>=7.1.0->crewai-tools>=0.17.0->crewai[tools]) (308)\n",
      "Requirement already satisfied: alembic<2.0.0,>=1.13.1 in e:\\qed42\\crewai_agent\\content_planner_flow\\venv\\lib\\site-packages (from embedchain>=0.1.114->crewai-tools>=0.17.0->crewai[tools]) (1.14.0)\n",
      "Requirement already satisfied: cohere<6.0,>=5.3 in e:\\qed42\\crewai_agent\\content_planner_flow\\venv\\lib\\site-packages (from embedchain>=0.1.114->crewai-tools>=0.17.0->crewai[tools]) (5.13.4)\n",
      "Requirement already satisfied: google-cloud-aiplatform<2.0.0,>=1.26.1 in e:\\qed42\\crewai_agent\\content_planner_flow\\venv\\lib\\site-packages (from embedchain>=0.1.114->crewai-tools>=0.17.0->crewai[tools]) (1.75.0)\n",
      "Requirement already satisfied: gptcache<0.2.0,>=0.1.43 in e:\\qed42\\crewai_agent\\content_planner_flow\\venv\\lib\\site-packages (from embedchain>=0.1.114->crewai-tools>=0.17.0->crewai[tools]) (0.1.44)\n",
      "Requirement already satisfied: langchain<0.4.0,>=0.3.1 in e:\\qed42\\crewai_agent\\content_planner_flow\\venv\\lib\\site-packages (from embedchain>=0.1.114->crewai-tools>=0.17.0->crewai[tools]) (0.3.13)\n",
      "Requirement already satisfied: langchain-cohere<0.4.0,>=0.3.0 in e:\\qed42\\crewai_agent\\content_planner_flow\\venv\\lib\\site-packages (from embedchain>=0.1.114->crewai-tools>=0.17.0->crewai[tools]) (0.3.4)\n",
      "Requirement already satisfied: langchain-community<0.4.0,>=0.3.1 in e:\\qed42\\crewai_agent\\content_planner_flow\\venv\\lib\\site-packages (from embedchain>=0.1.114->crewai-tools>=0.17.0->crewai[tools]) (0.3.13)\n",
      "Requirement already satisfied: langchain-openai<0.3.0,>=0.2.1 in e:\\qed42\\crewai_agent\\content_planner_flow\\venv\\lib\\site-packages (from embedchain>=0.1.114->crewai-tools>=0.17.0->crewai[tools]) (0.2.14)\n",
      "Requirement already satisfied: langsmith<0.2.0,>=0.1.17 in e:\\qed42\\crewai_agent\\content_planner_flow\\venv\\lib\\site-packages (from embedchain>=0.1.114->crewai-tools>=0.17.0->crewai[tools]) (0.1.147)\n",
      "Requirement already satisfied: mem0ai<0.2.0,>=0.1.29 in e:\\qed42\\crewai_agent\\content_planner_flow\\venv\\lib\\site-packages (from embedchain>=0.1.114->crewai-tools>=0.17.0->crewai[tools]) (0.1.36)\n",
      "Requirement already satisfied: pypdf<6.0.0,>=5.0.0 in e:\\qed42\\crewai_agent\\content_planner_flow\\venv\\lib\\site-packages (from embedchain>=0.1.114->crewai-tools>=0.17.0->crewai[tools]) (5.1.0)\n",
      "Requirement already satisfied: pysbd<0.4.0,>=0.3.4 in e:\\qed42\\crewai_agent\\content_planner_flow\\venv\\lib\\site-packages (from embedchain>=0.1.114->crewai-tools>=0.17.0->crewai[tools]) (0.3.4)\n",
      "Requirement already satisfied: schema<0.8.0,>=0.7.5 in e:\\qed42\\crewai_agent\\content_planner_flow\\venv\\lib\\site-packages (from embedchain>=0.1.114->crewai-tools>=0.17.0->crewai[tools]) (0.7.7)\n",
      "Requirement already satisfied: sqlalchemy<3.0.0,>=2.0.27 in e:\\qed42\\crewai_agent\\content_planner_flow\\venv\\lib\\site-packages (from embedchain>=0.1.114->crewai-tools>=0.17.0->crewai[tools]) (2.0.36)\n",
      "Requirement already satisfied: starlette<0.42.0,>=0.40.0 in e:\\qed42\\crewai_agent\\content_planner_flow\\venv\\lib\\site-packages (from fastapi>=0.95.2->chromadb>=0.5.18->crewai[tools]) (0.41.3)\n",
      "Requirement already satisfied: certifi in e:\\qed42\\crewai_agent\\content_planner_flow\\venv\\lib\\site-packages (from httpx>=0.27.0->chromadb>=0.5.18->crewai[tools]) (2024.12.14)\n",
      "Requirement already satisfied: httpcore==1.* in e:\\qed42\\crewai_agent\\content_planner_flow\\venv\\lib\\site-packages (from httpx>=0.27.0->chromadb>=0.5.18->crewai[tools]) (1.0.7)\n",
      "Requirement already satisfied: h11<0.15,>=0.13 in e:\\qed42\\crewai_agent\\content_planner_flow\\venv\\lib\\site-packages (from httpcore==1.*->httpx>=0.27.0->chromadb>=0.5.18->crewai[tools]) (0.14.0)\n",
      "Requirement already satisfied: zipp>=3.20 in e:\\qed42\\crewai_agent\\content_planner_flow\\venv\\lib\\site-packages (from importlib-metadata>=6.8.0->litellm>=1.44.22->crewai[tools]) (3.21.0)\n",
      "Requirement already satisfied: decorator in e:\\qed42\\crewai_agent\\content_planner_flow\\venv\\lib\\site-packages (from ipython>=5.3.0->pyvis>=0.3.2->crewai[tools]) (5.1.1)\n",
      "Requirement already satisfied: jedi>=0.16 in e:\\qed42\\crewai_agent\\content_planner_flow\\venv\\lib\\site-packages (from ipython>=5.3.0->pyvis>=0.3.2->crewai[tools]) (0.19.2)\n",
      "Requirement already satisfied: matplotlib-inline in e:\\qed42\\crewai_agent\\content_planner_flow\\venv\\lib\\site-packages (from ipython>=5.3.0->pyvis>=0.3.2->crewai[tools]) (0.1.7)\n",
      "Requirement already satisfied: prompt_toolkit<3.1.0,>=3.0.41 in e:\\qed42\\crewai_agent\\content_planner_flow\\venv\\lib\\site-packages (from ipython>=5.3.0->pyvis>=0.3.2->crewai[tools]) (3.0.48)\n",
      "Requirement already satisfied: pygments>=2.4.0 in e:\\qed42\\crewai_agent\\content_planner_flow\\venv\\lib\\site-packages (from ipython>=5.3.0->pyvis>=0.3.2->crewai[tools]) (2.18.0)\n",
      "Requirement already satisfied: stack_data in e:\\qed42\\crewai_agent\\content_planner_flow\\venv\\lib\\site-packages (from ipython>=5.3.0->pyvis>=0.3.2->crewai[tools]) (0.6.3)\n",
      "Requirement already satisfied: traitlets>=5.13.0 in e:\\qed42\\crewai_agent\\content_planner_flow\\venv\\lib\\site-packages (from ipython>=5.3.0->pyvis>=0.3.2->crewai[tools]) (5.14.3)\n",
      "Requirement already satisfied: MarkupSafe>=2.0 in e:\\qed42\\crewai_agent\\content_planner_flow\\venv\\lib\\site-packages (from jinja2<4.0.0,>=3.1.4->instructor>=1.3.3->crewai[tools]) (3.0.2)\n",
      "Requirement already satisfied: jsonschema-specifications>=2023.03.6 in e:\\qed42\\crewai_agent\\content_planner_flow\\venv\\lib\\site-packages (from jsonschema<5.0.0,>=4.22.0->litellm>=1.44.22->crewai[tools]) (2024.10.1)\n",
      "Requirement already satisfied: referencing>=0.28.4 in e:\\qed42\\crewai_agent\\content_planner_flow\\venv\\lib\\site-packages (from jsonschema<5.0.0,>=4.22.0->litellm>=1.44.22->crewai[tools]) (0.35.1)\n",
      "Requirement already satisfied: rpds-py>=0.7.1 in e:\\qed42\\crewai_agent\\content_planner_flow\\venv\\lib\\site-packages (from jsonschema<5.0.0,>=4.22.0->litellm>=1.44.22->crewai[tools]) (0.22.3)\n",
      "Requirement already satisfied: six>=1.9.0 in e:\\qed42\\crewai_agent\\content_planner_flow\\venv\\lib\\site-packages (from kubernetes>=28.1.0->chromadb>=0.5.18->crewai[tools]) (1.17.0)\n",
      "Requirement already satisfied: python-dateutil>=2.5.3 in e:\\qed42\\crewai_agent\\content_planner_flow\\venv\\lib\\site-packages (from kubernetes>=28.1.0->chromadb>=0.5.18->crewai[tools]) (2.9.0.post0)\n",
      "Requirement already satisfied: google-auth>=1.0.1 in e:\\qed42\\crewai_agent\\content_planner_flow\\venv\\lib\\site-packages (from kubernetes>=28.1.0->chromadb>=0.5.18->crewai[tools]) (2.37.0)\n",
      "Requirement already satisfied: websocket-client!=0.40.0,!=0.41.*,!=0.42.*,>=0.32.0 in e:\\qed42\\crewai_agent\\content_planner_flow\\venv\\lib\\site-packages (from kubernetes>=28.1.0->chromadb>=0.5.18->crewai[tools]) (1.8.0)\n",
      "Requirement already satisfied: requests-oauthlib in e:\\qed42\\crewai_agent\\content_planner_flow\\venv\\lib\\site-packages (from kubernetes>=28.1.0->chromadb>=0.5.18->crewai[tools]) (2.0.0)\n",
      "Requirement already satisfied: oauthlib>=3.2.2 in e:\\qed42\\crewai_agent\\content_planner_flow\\venv\\lib\\site-packages (from kubernetes>=28.1.0->chromadb>=0.5.18->crewai[tools]) (3.2.2)\n",
      "Requirement already satisfied: durationpy>=0.7 in e:\\qed42\\crewai_agent\\content_planner_flow\\venv\\lib\\site-packages (from kubernetes>=28.1.0->chromadb>=0.5.18->crewai[tools]) (0.9)\n",
      "Requirement already satisfied: deprecation in e:\\qed42\\crewai_agent\\content_planner_flow\\venv\\lib\\site-packages (from lancedb>=0.5.4->crewai-tools>=0.17.0->crewai[tools]) (2.1.0)\n",
      "Requirement already satisfied: pylance==0.20.0 in e:\\qed42\\crewai_agent\\content_planner_flow\\venv\\lib\\site-packages (from lancedb>=0.5.4->crewai-tools>=0.17.0->crewai[tools]) (0.20.0)\n",
      "Requirement already satisfied: pyarrow>=14 in e:\\qed42\\crewai_agent\\content_planner_flow\\venv\\lib\\site-packages (from pylance==0.20.0->lancedb>=0.5.4->crewai-tools>=0.17.0->crewai[tools]) (18.1.0)\n",
      "Requirement already satisfied: coloredlogs in e:\\qed42\\crewai_agent\\content_planner_flow\\venv\\lib\\site-packages (from onnxruntime>=1.14.1->chromadb>=0.5.18->crewai[tools]) (15.0.1)\n",
      "Requirement already satisfied: flatbuffers in e:\\qed42\\crewai_agent\\content_planner_flow\\venv\\lib\\site-packages (from onnxruntime>=1.14.1->chromadb>=0.5.18->crewai[tools]) (24.3.25)\n",
      "Requirement already satisfied: sympy in e:\\qed42\\crewai_agent\\content_planner_flow\\venv\\lib\\site-packages (from onnxruntime>=1.14.1->chromadb>=0.5.18->crewai[tools]) (1.13.3)\n",
      "Requirement already satisfied: opentelemetry-instrumentation-asgi==0.50b0 in e:\\qed42\\crewai_agent\\content_planner_flow\\venv\\lib\\site-packages (from opentelemetry-instrumentation-fastapi>=0.41b0->chromadb>=0.5.18->crewai[tools]) (0.50b0)\n",
      "Requirement already satisfied: opentelemetry-instrumentation==0.50b0 in e:\\qed42\\crewai_agent\\content_planner_flow\\venv\\lib\\site-packages (from opentelemetry-instrumentation-fastapi>=0.41b0->chromadb>=0.5.18->crewai[tools]) (0.50b0)\n",
      "Requirement already satisfied: opentelemetry-util-http==0.50b0 in e:\\qed42\\crewai_agent\\content_planner_flow\\venv\\lib\\site-packages (from opentelemetry-instrumentation-fastapi>=0.41b0->chromadb>=0.5.18->crewai[tools]) (0.50b0)\n",
      "Requirement already satisfied: asgiref~=3.0 in e:\\qed42\\crewai_agent\\content_planner_flow\\venv\\lib\\site-packages (from opentelemetry-instrumentation-asgi==0.50b0->opentelemetry-instrumentation-fastapi>=0.41b0->chromadb>=0.5.18->crewai[tools]) (3.8.1)\n",
      "Requirement already satisfied: monotonic>=1.5 in e:\\qed42\\crewai_agent\\content_planner_flow\\venv\\lib\\site-packages (from posthog>=2.4.0->chromadb>=0.5.18->crewai[tools]) (1.6)\n",
      "Requirement already satisfied: backoff>=1.10.0 in e:\\qed42\\crewai_agent\\content_planner_flow\\venv\\lib\\site-packages (from posthog>=2.4.0->chromadb>=0.5.18->crewai[tools]) (2.2.1)\n",
      "Requirement already satisfied: nodeenv>=1.6.0 in e:\\qed42\\crewai_agent\\content_planner_flow\\venv\\lib\\site-packages (from pyright>=1.1.350->crewai-tools>=0.17.0->crewai[tools]) (1.9.1)\n",
      "Requirement already satisfied: iniconfig in e:\\qed42\\crewai_agent\\content_planner_flow\\venv\\lib\\site-packages (from pytest>=8.0.0->crewai-tools>=0.17.0->crewai[tools]) (2.0.0)\n",
      "Requirement already satisfied: pluggy<2,>=1.5 in e:\\qed42\\crewai_agent\\content_planner_flow\\venv\\lib\\site-packages (from pytest>=8.0.0->crewai-tools>=0.17.0->crewai[tools]) (1.5.0)\n",
      "Requirement already satisfied: markdown-it-py>=2.2.0 in e:\\qed42\\crewai_agent\\content_planner_flow\\venv\\lib\\site-packages (from rich>=10.11.0->chromadb>=0.5.18->crewai[tools]) (3.0.0)\n",
      "Requirement already satisfied: trio~=0.17 in e:\\qed42\\crewai_agent\\content_planner_flow\\venv\\lib\\site-packages (from selenium>=4.18.1->crewai-tools>=0.17.0->crewai[tools]) (0.27.0)\n",
      "Requirement already satisfied: trio-websocket~=0.9 in e:\\qed42\\crewai_agent\\content_planner_flow\\venv\\lib\\site-packages (from selenium>=4.18.1->crewai-tools>=0.17.0->crewai[tools]) (0.11.1)\n",
      "Requirement already satisfied: huggingface-hub<1.0,>=0.16.4 in e:\\qed42\\crewai_agent\\content_planner_flow\\venv\\lib\\site-packages (from tokenizers<=0.20.3,>=0.13.2->chromadb>=0.5.18->crewai[tools]) (0.27.0)\n",
      "Requirement already satisfied: shellingham>=1.3.0 in e:\\qed42\\crewai_agent\\content_planner_flow\\venv\\lib\\site-packages (from typer>=0.9.0->chromadb>=0.5.18->crewai[tools]) (1.5.4)\n",
      "Requirement already satisfied: httptools>=0.6.3 in e:\\qed42\\crewai_agent\\content_planner_flow\\venv\\lib\\site-packages (from uvicorn[standard]>=0.18.3->chromadb>=0.5.18->crewai[tools]) (0.6.4)\n",
      "Requirement already satisfied: watchfiles>=0.13 in e:\\qed42\\crewai_agent\\content_planner_flow\\venv\\lib\\site-packages (from uvicorn[standard]>=0.18.3->chromadb>=0.5.18->crewai[tools]) (1.0.3)\n",
      "Requirement already satisfied: websockets>=10.4 in e:\\qed42\\crewai_agent\\content_planner_flow\\venv\\lib\\site-packages (from uvicorn[standard]>=0.18.3->chromadb>=0.5.18->crewai[tools]) (14.1)\n",
      "Requirement already satisfied: Mako in e:\\qed42\\crewai_agent\\content_planner_flow\\venv\\lib\\site-packages (from alembic<2.0.0,>=1.13.1->embedchain>=0.1.114->crewai-tools>=0.17.0->crewai[tools]) (1.3.8)\n",
      "Requirement already satisfied: pycparser in e:\\qed42\\crewai_agent\\content_planner_flow\\venv\\lib\\site-packages (from cffi>=1.12->cryptography<44.0.0,>=43.0.1->auth0-python>=4.7.1->crewai[tools]) (2.22)\n",
      "Requirement already satisfied: fastavro<2.0.0,>=1.9.4 in e:\\qed42\\crewai_agent\\content_planner_flow\\venv\\lib\\site-packages (from cohere<6.0,>=5.3->embedchain>=0.1.114->crewai-tools>=0.17.0->crewai[tools]) (1.10.0)\n",
      "Requirement already satisfied: httpx-sse==0.4.0 in e:\\qed42\\crewai_agent\\content_planner_flow\\venv\\lib\\site-packages (from cohere<6.0,>=5.3->embedchain>=0.1.114->crewai-tools>=0.17.0->crewai[tools]) (0.4.0)\n",
      "Requirement already satisfied: parameterized<0.10.0,>=0.9.0 in e:\\qed42\\crewai_agent\\content_planner_flow\\venv\\lib\\site-packages (from cohere<6.0,>=5.3->embedchain>=0.1.114->crewai-tools>=0.17.0->crewai[tools]) (0.9.0)\n",
      "Requirement already satisfied: types-requests<3.0.0,>=2.0.0 in e:\\qed42\\crewai_agent\\content_planner_flow\\venv\\lib\\site-packages (from cohere<6.0,>=5.3->embedchain>=0.1.114->crewai-tools>=0.17.0->crewai[tools]) (2.32.0.20241016)\n",
      "Requirement already satisfied: cachetools<6.0,>=2.0.0 in e:\\qed42\\crewai_agent\\content_planner_flow\\venv\\lib\\site-packages (from google-auth>=1.0.1->kubernetes>=28.1.0->chromadb>=0.5.18->crewai[tools]) (5.5.0)\n",
      "Requirement already satisfied: pyasn1-modules>=0.2.1 in e:\\qed42\\crewai_agent\\content_planner_flow\\venv\\lib\\site-packages (from google-auth>=1.0.1->kubernetes>=28.1.0->chromadb>=0.5.18->crewai[tools]) (0.4.1)\n",
      "Requirement already satisfied: rsa<5,>=3.1.4 in e:\\qed42\\crewai_agent\\content_planner_flow\\venv\\lib\\site-packages (from google-auth>=1.0.1->kubernetes>=28.1.0->chromadb>=0.5.18->crewai[tools]) (4.9)\n",
      "Requirement already satisfied: google-api-core[grpc]!=2.0.*,!=2.1.*,!=2.2.*,!=2.3.*,!=2.4.*,!=2.5.*,!=2.6.*,!=2.7.*,<3.0.0dev,>=1.34.1 in e:\\qed42\\crewai_agent\\content_planner_flow\\venv\\lib\\site-packages (from google-cloud-aiplatform<2.0.0,>=1.26.1->embedchain>=0.1.114->crewai-tools>=0.17.0->crewai[tools]) (2.24.0)\n",
      "Requirement already satisfied: proto-plus<2.0.0dev,>=1.22.3 in e:\\qed42\\crewai_agent\\content_planner_flow\\venv\\lib\\site-packages (from google-cloud-aiplatform<2.0.0,>=1.26.1->embedchain>=0.1.114->crewai-tools>=0.17.0->crewai[tools]) (1.25.0)\n",
      "Requirement already satisfied: google-cloud-storage<3.0.0dev,>=1.32.0 in e:\\qed42\\crewai_agent\\content_planner_flow\\venv\\lib\\site-packages (from google-cloud-aiplatform<2.0.0,>=1.26.1->embedchain>=0.1.114->crewai-tools>=0.17.0->crewai[tools]) (2.19.0)\n",
      "Requirement already satisfied: google-cloud-bigquery!=3.20.0,<4.0.0dev,>=1.15.0 in e:\\qed42\\crewai_agent\\content_planner_flow\\venv\\lib\\site-packages (from google-cloud-aiplatform<2.0.0,>=1.26.1->embedchain>=0.1.114->crewai-tools>=0.17.0->crewai[tools]) (3.27.0)\n",
      "Requirement already satisfied: google-cloud-resource-manager<3.0.0dev,>=1.3.3 in e:\\qed42\\crewai_agent\\content_planner_flow\\venv\\lib\\site-packages (from google-cloud-aiplatform<2.0.0,>=1.26.1->embedchain>=0.1.114->crewai-tools>=0.17.0->crewai[tools]) (1.14.0)\n",
      "Requirement already satisfied: shapely<3.0.0dev in e:\\qed42\\crewai_agent\\content_planner_flow\\venv\\lib\\site-packages (from google-cloud-aiplatform<2.0.0,>=1.26.1->embedchain>=0.1.114->crewai-tools>=0.17.0->crewai[tools]) (2.0.6)\n",
      "Requirement already satisfied: filelock in e:\\qed42\\crewai_agent\\content_planner_flow\\venv\\lib\\site-packages (from huggingface-hub<1.0,>=0.16.4->tokenizers<=0.20.3,>=0.13.2->chromadb>=0.5.18->crewai[tools]) (3.16.1)\n",
      "Requirement already satisfied: fsspec>=2023.5.0 in e:\\qed42\\crewai_agent\\content_planner_flow\\venv\\lib\\site-packages (from huggingface-hub<1.0,>=0.16.4->tokenizers<=0.20.3,>=0.13.2->chromadb>=0.5.18->crewai[tools]) (2024.12.0)\n",
      "Requirement already satisfied: parso<0.9.0,>=0.8.4 in e:\\qed42\\crewai_agent\\content_planner_flow\\venv\\lib\\site-packages (from jedi>=0.16->ipython>=5.3.0->pyvis>=0.3.2->crewai[tools]) (0.8.4)\n",
      "Requirement already satisfied: langchain-core<0.4.0,>=0.3.26 in e:\\qed42\\crewai_agent\\content_planner_flow\\venv\\lib\\site-packages (from langchain<0.4.0,>=0.3.1->embedchain>=0.1.114->crewai-tools>=0.17.0->crewai[tools]) (0.3.28)\n",
      "Requirement already satisfied: langchain-text-splitters<0.4.0,>=0.3.3 in e:\\qed42\\crewai_agent\\content_planner_flow\\venv\\lib\\site-packages (from langchain<0.4.0,>=0.3.1->embedchain>=0.1.114->crewai-tools>=0.17.0->crewai[tools]) (0.3.4)\n",
      "Requirement already satisfied: langchain-experimental<0.4.0,>=0.3.0 in e:\\qed42\\crewai_agent\\content_planner_flow\\venv\\lib\\site-packages (from langchain-cohere<0.4.0,>=0.3.0->embedchain>=0.1.114->crewai-tools>=0.17.0->crewai[tools]) (0.3.4)\n",
      "Requirement already satisfied: pandas>=1.4.3 in e:\\qed42\\crewai_agent\\content_planner_flow\\venv\\lib\\site-packages (from langchain-cohere<0.4.0,>=0.3.0->embedchain>=0.1.114->crewai-tools>=0.17.0->crewai[tools]) (2.2.3)\n",
      "Requirement already satisfied: tabulate<0.10.0,>=0.9.0 in e:\\qed42\\crewai_agent\\content_planner_flow\\venv\\lib\\site-packages (from langchain-cohere<0.4.0,>=0.3.0->embedchain>=0.1.114->crewai-tools>=0.17.0->crewai[tools]) (0.9.0)\n",
      "Requirement already satisfied: dataclasses-json<0.7,>=0.5.7 in e:\\qed42\\crewai_agent\\content_planner_flow\\venv\\lib\\site-packages (from langchain-community<0.4.0,>=0.3.1->embedchain>=0.1.114->crewai-tools>=0.17.0->crewai[tools]) (0.6.7)\n",
      "Requirement already satisfied: pydantic-settings<3.0.0,>=2.4.0 in e:\\qed42\\crewai_agent\\content_planner_flow\\venv\\lib\\site-packages (from langchain-community<0.4.0,>=0.3.1->embedchain>=0.1.114->crewai-tools>=0.17.0->crewai[tools]) (2.7.0)\n",
      "Requirement already satisfied: requests-toolbelt<2.0.0,>=1.0.0 in e:\\qed42\\crewai_agent\\content_planner_flow\\venv\\lib\\site-packages (from langsmith<0.2.0,>=0.1.17->embedchain>=0.1.114->crewai-tools>=0.17.0->crewai[tools]) (1.0.0)\n",
      "Requirement already satisfied: mdurl~=0.1 in e:\\qed42\\crewai_agent\\content_planner_flow\\venv\\lib\\site-packages (from markdown-it-py>=2.2.0->rich>=10.11.0->chromadb>=0.5.18->crewai[tools]) (0.1.2)\n",
      "Requirement already satisfied: pytz<2025.0,>=2024.1 in e:\\qed42\\crewai_agent\\content_planner_flow\\venv\\lib\\site-packages (from mem0ai<0.2.0,>=0.1.29->embedchain>=0.1.114->crewai-tools>=0.17.0->crewai[tools]) (2024.2)\n",
      "Requirement already satisfied: qdrant-client<2.0.0,>=1.9.1 in e:\\qed42\\crewai_agent\\content_planner_flow\\venv\\lib\\site-packages (from mem0ai<0.2.0,>=0.1.29->embedchain>=0.1.114->crewai-tools>=0.17.0->crewai[tools]) (1.12.1)\n",
      "Requirement already satisfied: wcwidth in e:\\qed42\\crewai_agent\\content_planner_flow\\venv\\lib\\site-packages (from prompt_toolkit<3.1.0,>=3.0.41->ipython>=5.3.0->pyvis>=0.3.2->crewai[tools]) (0.2.13)\n",
      "Requirement already satisfied: greenlet!=0.4.17 in e:\\qed42\\crewai_agent\\content_planner_flow\\venv\\lib\\site-packages (from sqlalchemy<3.0.0,>=2.0.27->embedchain>=0.1.114->crewai-tools>=0.17.0->crewai[tools]) (3.1.1)\n",
      "Requirement already satisfied: sortedcontainers in e:\\qed42\\crewai_agent\\content_planner_flow\\venv\\lib\\site-packages (from trio~=0.17->selenium>=4.18.1->crewai-tools>=0.17.0->crewai[tools]) (2.4.0)\n",
      "Requirement already satisfied: outcome in e:\\qed42\\crewai_agent\\content_planner_flow\\venv\\lib\\site-packages (from trio~=0.17->selenium>=4.18.1->crewai-tools>=0.17.0->crewai[tools]) (1.3.0.post0)\n",
      "Requirement already satisfied: wsproto>=0.14 in e:\\qed42\\crewai_agent\\content_planner_flow\\venv\\lib\\site-packages (from trio-websocket~=0.9->selenium>=4.18.1->crewai-tools>=0.17.0->crewai[tools]) (1.2.0)\n",
      "Requirement already satisfied: pysocks!=1.5.7,<2.0,>=1.5.6 in e:\\qed42\\crewai_agent\\content_planner_flow\\venv\\lib\\site-packages (from urllib3<3.0.0,>=2.0.7->auth0-python>=4.7.1->crewai[tools]) (1.7.1)\n",
      "Requirement already satisfied: humanfriendly>=9.1 in e:\\qed42\\crewai_agent\\content_planner_flow\\venv\\lib\\site-packages (from coloredlogs->onnxruntime>=1.14.1->chromadb>=0.5.18->crewai[tools]) (10.0)\n",
      "Requirement already satisfied: executing>=1.2.0 in e:\\qed42\\crewai_agent\\content_planner_flow\\venv\\lib\\site-packages (from stack_data->ipython>=5.3.0->pyvis>=0.3.2->crewai[tools]) (2.1.0)\n",
      "Requirement already satisfied: asttokens>=2.1.0 in e:\\qed42\\crewai_agent\\content_planner_flow\\venv\\lib\\site-packages (from stack_data->ipython>=5.3.0->pyvis>=0.3.2->crewai[tools]) (3.0.0)\n",
      "Requirement already satisfied: pure-eval in e:\\qed42\\crewai_agent\\content_planner_flow\\venv\\lib\\site-packages (from stack_data->ipython>=5.3.0->pyvis>=0.3.2->crewai[tools]) (0.2.3)\n",
      "Requirement already satisfied: mpmath<1.4,>=1.1.0 in e:\\qed42\\crewai_agent\\content_planner_flow\\venv\\lib\\site-packages (from sympy->onnxruntime>=1.14.1->chromadb>=0.5.18->crewai[tools]) (1.3.0)\n",
      "Requirement already satisfied: marshmallow<4.0.0,>=3.18.0 in e:\\qed42\\crewai_agent\\content_planner_flow\\venv\\lib\\site-packages (from dataclasses-json<0.7,>=0.5.7->langchain-community<0.4.0,>=0.3.1->embedchain>=0.1.114->crewai-tools>=0.17.0->crewai[tools]) (3.23.2)\n",
      "Requirement already satisfied: typing-inspect<1,>=0.4.0 in e:\\qed42\\crewai_agent\\content_planner_flow\\venv\\lib\\site-packages (from dataclasses-json<0.7,>=0.5.7->langchain-community<0.4.0,>=0.3.1->embedchain>=0.1.114->crewai-tools>=0.17.0->crewai[tools]) (0.9.0)\n",
      "Requirement already satisfied: grpcio-status<2.0.dev0,>=1.33.2 in e:\\qed42\\crewai_agent\\content_planner_flow\\venv\\lib\\site-packages (from google-api-core[grpc]!=2.0.*,!=2.1.*,!=2.2.*,!=2.3.*,!=2.4.*,!=2.5.*,!=2.6.*,!=2.7.*,<3.0.0dev,>=1.34.1->google-cloud-aiplatform<2.0.0,>=1.26.1->embedchain>=0.1.114->crewai-tools>=0.17.0->crewai[tools]) (1.68.1)\n",
      "Requirement already satisfied: google-cloud-core<3.0.0dev,>=2.4.1 in e:\\qed42\\crewai_agent\\content_planner_flow\\venv\\lib\\site-packages (from google-cloud-bigquery!=3.20.0,<4.0.0dev,>=1.15.0->google-cloud-aiplatform<2.0.0,>=1.26.1->embedchain>=0.1.114->crewai-tools>=0.17.0->crewai[tools]) (2.4.1)\n",
      "Requirement already satisfied: google-resumable-media<3.0dev,>=2.0.0 in e:\\qed42\\crewai_agent\\content_planner_flow\\venv\\lib\\site-packages (from google-cloud-bigquery!=3.20.0,<4.0.0dev,>=1.15.0->google-cloud-aiplatform<2.0.0,>=1.26.1->embedchain>=0.1.114->crewai-tools>=0.17.0->crewai[tools]) (2.7.2)\n",
      "Requirement already satisfied: grpc-google-iam-v1<1.0.0dev,>=0.12.4 in e:\\qed42\\crewai_agent\\content_planner_flow\\venv\\lib\\site-packages (from google-cloud-resource-manager<3.0.0dev,>=1.3.3->google-cloud-aiplatform<2.0.0,>=1.26.1->embedchain>=0.1.114->crewai-tools>=0.17.0->crewai[tools]) (0.13.1)\n",
      "Requirement already satisfied: google-crc32c<2.0dev,>=1.0 in e:\\qed42\\crewai_agent\\content_planner_flow\\venv\\lib\\site-packages (from google-cloud-storage<3.0.0dev,>=1.32.0->google-cloud-aiplatform<2.0.0,>=1.26.1->embedchain>=0.1.114->crewai-tools>=0.17.0->crewai[tools]) (1.6.0)\n",
      "Requirement already satisfied: pyreadline3 in e:\\qed42\\crewai_agent\\content_planner_flow\\venv\\lib\\site-packages (from humanfriendly>=9.1->coloredlogs->onnxruntime>=1.14.1->chromadb>=0.5.18->crewai[tools]) (3.5.4)\n",
      "Requirement already satisfied: jsonpatch<2.0,>=1.33 in e:\\qed42\\crewai_agent\\content_planner_flow\\venv\\lib\\site-packages (from langchain-core<0.4.0,>=0.3.26->langchain<0.4.0,>=0.3.1->embedchain>=0.1.114->crewai-tools>=0.17.0->crewai[tools]) (1.33)\n",
      "Requirement already satisfied: tzdata>=2022.7 in e:\\qed42\\crewai_agent\\content_planner_flow\\venv\\lib\\site-packages (from pandas>=1.4.3->langchain-cohere<0.4.0,>=0.3.0->embedchain>=0.1.114->crewai-tools>=0.17.0->crewai[tools]) (2024.2)\n",
      "Requirement already satisfied: pyasn1<0.7.0,>=0.4.6 in e:\\qed42\\crewai_agent\\content_planner_flow\\venv\\lib\\site-packages (from pyasn1-modules>=0.2.1->google-auth>=1.0.1->kubernetes>=28.1.0->chromadb>=0.5.18->crewai[tools]) (0.6.1)\n",
      "Requirement already satisfied: grpcio-tools>=1.41.0 in e:\\qed42\\crewai_agent\\content_planner_flow\\venv\\lib\\site-packages (from qdrant-client<2.0.0,>=1.9.1->mem0ai<0.2.0,>=0.1.29->embedchain>=0.1.114->crewai-tools>=0.17.0->crewai[tools]) (1.68.1)\n",
      "Requirement already satisfied: portalocker<3.0.0,>=2.7.0 in e:\\qed42\\crewai_agent\\content_planner_flow\\venv\\lib\\site-packages (from qdrant-client<2.0.0,>=1.9.1->mem0ai<0.2.0,>=0.1.29->embedchain>=0.1.114->crewai-tools>=0.17.0->crewai[tools]) (2.10.1)\n",
      "Requirement already satisfied: setuptools in e:\\qed42\\crewai_agent\\content_planner_flow\\venv\\lib\\site-packages (from grpcio-tools>=1.41.0->qdrant-client<2.0.0,>=1.9.1->mem0ai<0.2.0,>=0.1.29->embedchain>=0.1.114->crewai-tools>=0.17.0->crewai[tools]) (65.5.0)\n",
      "Requirement already satisfied: h2<5,>=3 in e:\\qed42\\crewai_agent\\content_planner_flow\\venv\\lib\\site-packages (from httpx>=0.27.0->chromadb>=0.5.18->crewai[tools]) (4.1.0)\n",
      "Requirement already satisfied: jsonpointer>=1.9 in e:\\qed42\\crewai_agent\\content_planner_flow\\venv\\lib\\site-packages (from jsonpatch<2.0,>=1.33->langchain-core<0.4.0,>=0.3.26->langchain<0.4.0,>=0.3.1->embedchain>=0.1.114->crewai-tools>=0.17.0->crewai[tools]) (3.0.0)\n",
      "Requirement already satisfied: mypy-extensions>=0.3.0 in e:\\qed42\\crewai_agent\\content_planner_flow\\venv\\lib\\site-packages (from typing-inspect<1,>=0.4.0->dataclasses-json<0.7,>=0.5.7->langchain-community<0.4.0,>=0.3.1->embedchain>=0.1.114->crewai-tools>=0.17.0->crewai[tools]) (1.0.0)\n",
      "Requirement already satisfied: hyperframe<7,>=6.0 in e:\\qed42\\crewai_agent\\content_planner_flow\\venv\\lib\\site-packages (from h2<5,>=3->httpx>=0.27.0->chromadb>=0.5.18->crewai[tools]) (6.0.1)\n",
      "Requirement already satisfied: hpack<5,>=4.0 in e:\\qed42\\crewai_agent\\content_planner_flow\\venv\\lib\\site-packages (from h2<5,>=3->httpx>=0.27.0->chromadb>=0.5.18->crewai[tools]) (4.0.0)\n"
     ]
    },
    {
     "name": "stderr",
     "output_type": "stream",
     "text": [
      "\n",
      "[notice] A new release of pip is available: 23.2.1 -> 24.3.1\n",
      "[notice] To update, run: python.exe -m pip install --upgrade pip\n"
     ]
    }
   ],
   "source": [
    "!pip install crewai[tools]"
   ]
  },
  {
   "cell_type": "code",
   "execution_count": 57,
   "metadata": {},
   "outputs": [],
   "source": [
    "# Importing necessary libraries\n",
    "import getpass\n",
    "import os\n",
    "import datetime\n",
    "import uuid\n",
    "import yaml\n",
    "import json\n",
    "import subprocess\n",
    "from pathlib import Path\n",
    "import pydantic\n",
    "from pydantic import BaseModel\n",
    "from typing import Optional\n",
    "\n",
    "# Firecrawl SDK\n",
    "from firecrawl import FirecrawlApp\n",
    "\n",
    "# Typefully scheduler\n",
    "import scheduler\n",
    "\n",
    "# Importing Crew related components\n",
    "from crewai import Agent, Task, Crew, LLM\n",
    "\n",
    "# Importing CrewAI Flow related components\n",
    "from crewai.flow.flow import Flow, listen, start, router, or_\n",
    "\n",
    "from dotenv import load_dotenv\n",
    "load_dotenv()\n",
    "# Apply a patch to allow nested asyncio loops in Jupyter\n",
    "import nest_asyncio\n",
    "nest_asyncio.apply()"
   ]
  },
  {
   "cell_type": "markdown",
   "metadata": {},
   "source": [
    "## Setup LLM\n",
    "\n",
    "Make sure you have ollama installed and running on your machine"
   ]
  },
  {
   "cell_type": "code",
   "execution_count": 58,
   "metadata": {},
   "outputs": [
    {
     "name": "stdout",
     "output_type": "stream",
     "text": [
      "LLM Test Response: content='Hello, I am working!' additional_kwargs={'refusal': None} response_metadata={'token_usage': {'completion_tokens': 7, 'prompt_tokens': 21, 'total_tokens': 28, 'completion_tokens_details': {'accepted_prediction_tokens': 0, 'audio_tokens': 0, 'reasoning_tokens': 0, 'rejected_prediction_tokens': 0}, 'prompt_tokens_details': {'audio_tokens': 0, 'cached_tokens': 0}}, 'model_name': 'gpt-4o-2024-08-06', 'system_fingerprint': 'fp_f785eb5f47', 'finish_reason': 'stop', 'logprobs': None} id='run-6f9de170-432a-4544-b4c8-a4ffc8bff61a-0' usage_metadata={'input_tokens': 21, 'output_tokens': 7, 'total_tokens': 28, 'input_token_details': {'audio': 0, 'cache_read': 0}, 'output_token_details': {'audio': 0, 'reasoning': 0}}\n",
      "✅ LLM is working correctly\n"
     ]
    }
   ],
   "source": [
    "from langchain_openai import ChatOpenAI\n",
    "from dotenv import load_dotenv\n",
    "import os\n",
    "\n",
    "# Load environment variables\n",
    "load_dotenv()\n",
    "\n",
    "# Initialize ChatOpenAI\n",
    "llm = ChatOpenAI(\n",
    "    model_name=\"gpt-4o\",\n",
    "    openai_api_key=os.getenv(\"OPENAI_API_KEY\"),\n",
    "    temperature=0.7\n",
    ")\n",
    "\n",
    "# Test cell to verify LLM is working\n",
    "try:\n",
    "    response = llm.invoke(\"Say 'Hello, I am working!' if you can read this.\")\n",
    "    print(\"LLM Test Response:\", response)\n",
    "    print(\"✅ LLM is working correctly\")\n",
    "except ValueError as e:\n",
    "    print(\"❌ Invalid API key or model name:\", str(e))\n",
    "except Exception as e:\n",
    "    print(\"❌ Error testing LLM:\", str(e))\n",
    "    print(\"Please check your OpenAI API key and internet connection\")"
   ]
  },
  {
   "cell_type": "markdown",
   "metadata": {},
   "source": []
  },
  {
   "cell_type": "markdown",
   "metadata": {},
   "source": [
    "blog_post_url = \"https://blog.dailydoseofds.com/p/5-chunking-strategies-for-rag\""
   ]
  },
  {
   "cell_type": "code",
   "execution_count": 138,
   "metadata": {},
   "outputs": [],
   "source": [
    "\n",
    "blog_post_url = \"https://blog.dailydoseofds.com/p/5-chunking-strategies-for-rag\"\n",
    "\n",
    "\n"
   ]
  },
  {
   "cell_type": "markdown",
   "metadata": {},
   "source": [
    "## Plan for our Flow\n",
    "\n",
    "1. Scrape the blog post\n",
    "2. Decode where to post using a router\n",
    "3. Kickoff the right **[Crew of Agents]** to prepare a draft ready to publish\n",
    "4. Publish it using typefully"
   ]
  },
  {
   "cell_type": "code",
   "execution_count": 139,
   "metadata": {},
   "outputs": [
    {
     "data": {
      "text/html": [
       "<img src=\"content_writing_flow.png\" width=\"1000\" height=\"750\"/>"
      ],
      "text/plain": [
       "<IPython.core.display.HTML object>"
      ]
     },
     "execution_count": 139,
     "metadata": {},
     "output_type": "execute_result"
    }
   ],
   "source": [
    "from IPython.display import HTML\n",
    "HTML('<img src=\"content_writing_flow.png\" width=\"1000\" height=\"750\"/>')"
   ]
  },
  {
   "cell_type": "markdown",
   "metadata": {},
   "source": [
    "# Twitter Thread Planning Crew\n",
    "\n",
    "This structure will be used to capture the output of the planning crew which will be used to create the twitter thread and schedule it on Typefully."
   ]
  },
  {
   "cell_type": "code",
   "execution_count": 140,
   "metadata": {},
   "outputs": [],
   "source": [
    "class Tweet(BaseModel):\n",
    "    \"\"\"Represents an individual tweet in a thread\"\"\"\n",
    "    content: str\n",
    "    is_hook: bool = False  # Identifies if this is the opening/hook tweet\n",
    "    media_urls: Optional[list[str]] = []  # Optional media attachments (images, code snippets)\n",
    "\n",
    "class Thread(BaseModel):\n",
    "    \"\"\"Represents a Twitter thread\"\"\"\n",
    "    topic: str  # Main topic/subject of the thread\n",
    "    tweets: list[Tweet]  # List of tweets in the thread"
   ]
  },
  {
   "cell_type": "code",
   "execution_count": 141,
   "metadata": {},
   "outputs": [],
   "source": [
    "from crewai_tools import (\n",
    "    DirectoryReadTool,\n",
    "    FileReadTool,\n",
    ")\n",
    "\n",
    "# Load agent and task configurations from YAML files\n",
    "with open('config/planner_agents.yaml', 'r') as f:\n",
    "    agents_config = yaml.safe_load(f)\n",
    "\n",
    "with open('config/planner_tasks.yaml', 'r') as f:\n",
    "    tasks_config = yaml.safe_load(f)"
   ]
  },
  {
   "cell_type": "code",
   "execution_count": 142,
   "metadata": {},
   "outputs": [
    {
     "name": "stderr",
     "output_type": "stream",
     "text": [
      "2024-12-23 12:06:40,627 - 20580 - __init__.py-__init__:537 - WARNING: Overriding of current TracerProvider is not allowed\n"
     ]
    }
   ],
   "source": [
    "draft_analyzer = Agent(config=agents_config['draft_analyzer'], tools=[\n",
    "    DirectoryReadTool(),\n",
    "    FileReadTool()\n",
    "], llm=llm)\n",
    "twitter_thread_planner = Agent(config=agents_config['twitter_thread_planner'], tools=[\n",
    "    DirectoryReadTool(),\n",
    "    FileReadTool()\n",
    "], llm=llm)\n",
    "\n",
    "analyze_draft = Task(\n",
    "  config=tasks_config['analyze_draft'],\n",
    "  agent=draft_analyzer\n",
    ")\n",
    "create_twitter_thread_plan = Task(\n",
    "  config=tasks_config['create_twitter_thread_plan'],\n",
    "  agent=twitter_thread_planner,\n",
    "  output_pydantic=Thread\n",
    ")\n",
    "\n",
    "planning_crew = Crew(\n",
    "    agents=[draft_analyzer, twitter_thread_planner],\n",
    "    tasks=[analyze_draft, create_twitter_thread_plan],\n",
    "    verbose=False\n",
    ")"
   ]
  },
  {
   "cell_type": "markdown",
   "metadata": {},
   "source": [
    "# LinkedIn Post Planning Crew"
   ]
  },
  {
   "cell_type": "code",
   "execution_count": 143,
   "metadata": {},
   "outputs": [],
   "source": [
    "class LinkedInPost(BaseModel):\n",
    "    \"\"\"Represents a LinkedIn post\"\"\"\n",
    "    content: str\n",
    "    media_url: str # Main image url for the post"
   ]
  },
  {
   "cell_type": "code",
   "execution_count": 144,
   "metadata": {},
   "outputs": [
    {
     "name": "stderr",
     "output_type": "stream",
     "text": [
      "2024-12-23 12:06:41,145 - 20580 - __init__.py-__init__:537 - WARNING: Overriding of current TracerProvider is not allowed\n"
     ]
    }
   ],
   "source": [
    "linkedin_post_planner = Agent(config=agents_config['linkedin_post_planner'], llm=llm)\n",
    "\n",
    "create_linkedin_post_plan = Task(\n",
    "  config=tasks_config['create_linkedin_post_plan'],\n",
    "  agent=linkedin_post_planner,\n",
    "  output_pydantic=LinkedInPost\n",
    ")\n",
    "\n",
    "linkedin_planning_crew = Crew(\n",
    "    agents=[draft_analyzer, linkedin_post_planner],\n",
    "    tasks=[analyze_draft, create_linkedin_post_plan],\n",
    "    verbose=False\n",
    ")"
   ]
  },
  {
   "cell_type": "markdown",
   "metadata": {},
   "source": [
    "# Create Content Planning Flow\n",
    "\n",
    "A Flow to create the content planning for twitter and linkedin using separate crews for twitter and linkedin"
   ]
  },
  {
   "cell_type": "code",
   "execution_count": 145,
   "metadata": {},
   "outputs": [
    {
     "data": {
      "text/html": [
       "<img src=\"content_writing_flow.png\" width=\"1000\" height=\"750\"/>"
      ],
      "text/plain": [
       "<IPython.core.display.HTML object>"
      ]
     },
     "execution_count": 145,
     "metadata": {},
     "output_type": "execute_result"
    }
   ],
   "source": [
    "from IPython.display import HTML\n",
    "HTML('<img src=\"content_writing_flow.png\" width=\"1000\" height=\"750\"/>')"
   ]
  },
  {
   "cell_type": "code",
   "execution_count": 146,
   "metadata": {},
   "outputs": [],
   "source": [
    "\n",
    "from crewai.flow.flow import Flow, listen, start, router, or_\n",
    "\n",
    "class ContentPlanningState(BaseModel):\n",
    "  \"\"\"\n",
    "  State for the content planning flow\n",
    "  \"\"\"\n",
    "  blog_post_url: str = blog_post_url\n",
    "  draft_path: Path = \"workdir/\"\n",
    "  post_type: str = \"twitter\"\n",
    "  path_to_example_threads: str = \"workdir/example_threads.txt\"\n",
    "\n",
    "class CreateContentPlanningFlow(Flow[ContentPlanningState]):\n",
    "  # Scrape the blog post  \n",
    "  # No need for AI Agents on this step, so we just use regular Python code\n",
    "  @start()\n",
    "  def scrape_blog_post(self):\n",
    "    print(f\"# fetching draft from: {self.state.blog_post_url}\")\n",
    "    app = FirecrawlApp(api_key=os.getenv(\"FIRECRAWL_API_KEY\"))\n",
    "    scrape_result = app.scrape_url(self.state.blog_post_url, params={'formats': ['markdown', 'html']})\n",
    "    \n",
    "    try:\n",
    "        title = scrape_result['metadata']['title']\n",
    "        # Sanitize filename - remove special chars and limit length\n",
    "        safe_title = re.sub(r'[\\\\/*?:\"<>|]', '', title)\n",
    "        safe_title = safe_title[:50]  # Limit length\n",
    "    except Exception as e:\n",
    "        safe_title = str(uuid.uuid4())\n",
    "\n",
    "    # Ensure workdir exists\n",
    "    os.makedirs('workdir', exist_ok=True)\n",
    "    \n",
    "    # Use simpler filename format\n",
    "    self.state.draft_path = os.path.join('workdir', f'{safe_title}.md')\n",
    "    \n",
    "    with open(self.state.draft_path, 'w', encoding='utf-8') as f:\n",
    "        f.write(scrape_result['markdown'])\n",
    "    \n",
    "    return self.state\n",
    "\n",
    "  @router(scrape_blog_post)\n",
    "  def select_platform(self):\n",
    "    if self.state.post_type == \"twitter\":\n",
    "      return \"twitter\"\n",
    "    elif self.state.post_type == \"linkedin\":\n",
    "      return \"linkedin\"\n",
    "\n",
    "  # @listen(\"twitter\")\n",
    "  # def twitter_draft(self):\n",
    "  #   print(f\"# Planning content for: {self.state.draft_path}\")\n",
    "  #   with open(self.state.draft_path, 'r', encoding='utf-8') as f:\n",
    "  #     draft_content = f.read()\n",
    "\n",
    "  #   # Extract media URLs from markdown\n",
    "  #   import re\n",
    "  #   image_urls = re.findall(r'!\\[.*?\\]\\((.*?)\\)', draft_content)\n",
    "  #   print(\"Found image URLs:\", image_urls)\n",
    "\n",
    "  #   # Send draft path and extracted media URLs to your planner/crew\n",
    "  #   result = planning_crew.kickoff(inputs={\n",
    "  #       'draft_path': self.state.draft_path,\n",
    "  #       'path_to_example_threads': self.state.path_to_example_threads,\n",
    "  #       'media_urls': image_urls\n",
    "  #   })\n",
    "  #   # result = planning_crew.kickoff(inputs={'draft_path': self.state.draft_path, 'path_to_example_threads': self.state.path_to_example_threads})\n",
    "  #   print(f\"# Planned content for {self.state.draft_path}:\")\n",
    "  #   for tweet in result.pydantic.tweets:\n",
    "  #       print(f\"    - {tweet.content}\")\n",
    "  #   return result\n",
    "  @listen(\"twitter\")\n",
    "  def twitter_draft(self):\n",
    "      print(f\"# Planning content for: {self.state.draft_path}\")\n",
    "      with open(self.state.draft_path, 'r', encoding='utf-8') as f:\n",
    "          draft_content = f.read()\n",
    "\n",
    "      import re\n",
    "      image_urls = re.findall(r'!\\[.*?\\]\\((.*?)\\)', draft_content)\n",
    "\n",
    "      result = planning_crew.kickoff(inputs={\n",
    "          'draft_path': self.state.draft_path,\n",
    "          'path_to_example_threads': self.state.path_to_example_threads,\n",
    "          'media_urls': image_urls\n",
    "      })\n",
    "\n",
    "      # Map image URLs to the tweets\n",
    "      for i, tweet in enumerate(result.pydantic.tweets):\n",
    "          # Add one or more URLs to each tweet as needed\n",
    "          if i < len(image_urls):\n",
    "              tweet.media_urls = [image_urls[i]]\n",
    "          else:\n",
    "              tweet.media_urls = []\n",
    "\n",
    "      print(f\"# Planned content for {self.state.draft_path}:\")\n",
    "      for tweet in result.pydantic.tweets:\n",
    "          print(f\"    - {tweet.content}, media: {tweet.media_urls}\")\n",
    "      return result\n",
    "  \n",
    "  @listen(\"linkedin\")\n",
    "  def linkedin_draft(self):\n",
    "    print(f\"# Planning content for: {self.state.draft_path}\")\n",
    "    result = linkedin_planning_crew.kickoff(inputs={'draft_path': self.state.draft_path})\n",
    "    print(f\"# Planned content for {self.state.draft_path}:\")\n",
    "    print(f\"    - {result.pydantic.content}\")\n",
    "    return result\n",
    "\n",
    "  @listen(or_(twitter_draft, linkedin_draft))    \n",
    "  def save_plan(self):\n",
    "      # Create thread directory if it doesn't exist\n",
    "      os.makedirs('thread', exist_ok=True)\n",
    "      \n",
    "      # Get filename from draft path\n",
    "      filename = os.path.basename(self.state.draft_path)\n",
    "      output_path = os.path.join('thread', f'{filename}_{self.state.post_type}.json')\n",
    "      \n",
    "      try:\n",
    "          with open(output_path, 'w', encoding='utf-8') as f:\n",
    "              json.dump(self.state.model_dump(), f, indent=2)\n",
    "          print(f\"Thread saved to: {output_path}\")\n",
    "          return self.state\n",
    "      except Exception as e:\n",
    "          print(f\"Error saving thread: {str(e)}\")\n",
    "          raise\n",
    "\n",
    "  @listen(or_(twitter_draft, linkedin_draft))\n",
    "  def publish(self, plan):\n",
    "    print(f\"# Publishing thread for: {self.state.draft_path}\")\n",
    "    ## Schedule for 1 hour from now    \n",
    "    response = scheduler.schedule(\n",
    "        thread_model=plan,\n",
    "        post_type=self.state.post_type\n",
    "    )\n",
    "    print(f\"# Thread scheduled for: {self.state.draft_path}\")\n",
    "    print(f\"Here's the link to scheduled draft: {response['share_url']}\")\n",
    "\n"
   ]
  },
  {
   "cell_type": "markdown",
   "metadata": {},
   "source": [
    "Implementing helper methods to plot and execute the flow in a Jupyter notebook"
   ]
  },
  {
   "cell_type": "code",
   "execution_count": 147,
   "metadata": {},
   "outputs": [
    {
     "name": "stdout",
     "output_type": "stream",
     "text": [
      "Plot saved as crewai_flow.html\n"
     ]
    },
    {
     "data": {
      "text/html": [
       "\n",
       "        <iframe\n",
       "            width=\"100%\"\n",
       "            height=\"400\"\n",
       "            src=\"./crewai_flow.html\"\n",
       "            frameborder=\"0\"\n",
       "            allowfullscreen\n",
       "            \n",
       "        ></iframe>\n",
       "        "
      ],
      "text/plain": [
       "<IPython.lib.display.IFrame at 0x1b6b254d9d0>"
      ]
     },
     "execution_count": 147,
     "metadata": {},
     "output_type": "execute_result"
    }
   ],
   "source": [
    "# Plot the flow\n",
    "flow = CreateContentPlanningFlow()\n",
    "flow.plot()\n",
    "\n",
    "# Display the flow visualization using IFrame\n",
    "from IPython.display import IFrame\n",
    "\n",
    "# Display the flow visualization\n",
    "IFrame(src='./crewai_flow.html', width='100%', height=400)"
   ]
  },
  {
   "cell_type": "code",
   "execution_count": 148,
   "metadata": {},
   "outputs": [
    {
     "data": {
      "text/plain": [
       "ContentPlanningState(blog_post_url='https://blog.dailydoseofds.com/p/5-chunking-strategies-for-rag', draft_path='workdir/', post_type='twitter', path_to_example_threads='workdir/example_threads.txt')"
      ]
     },
     "execution_count": 148,
     "metadata": {},
     "output_type": "execute_result"
    }
   ],
   "source": [
    "post_type = \"twitter\"\n",
    "flow = CreateContentPlanningFlow()\n",
    "flow.state.post_type = post_type\n",
    "flow.state"
   ]
  },
  {
   "cell_type": "markdown",
   "metadata": {},
   "source": []
  },
  {
   "cell_type": "code",
   "execution_count": 153,
   "metadata": {},
   "outputs": [
    {
     "name": "stdout",
     "output_type": "stream",
     "text": [
      "# fetching draft from: https://blog.dailydoseofds.com/p/5-chunking-strategies-for-rag\n",
      "# Planning content for: workdir\\5 Chunking Strategies For RAG - by Avi Chawla.md\n",
      "\u001b[91m Error parsing LLM output, agent will retry: I did it wrong. Invalid Format: I missed the 'Action:' after 'Thought:'. I will do right next, and don't use a tool I have already used.\n",
      "\n",
      "If you don't need to use any more tools, you must give your best complete final answer, make sure it satisfy the expect criteria, use the EXACT format below:\n",
      "\n",
      "Thought: I now can give a great answer\n",
      "Final Answer: my best complete final answer to the task.\n",
      "\n",
      "\u001b[00m\n",
      "# Planned content for workdir\\5 Chunking Strategies For RAG - by Avi Chawla.md:\n",
      "    - 5 Chunking Strategies For RAG, media: ['https://substackcdn.com/image/fetch/w_96,c_limit,f_auto,q_auto:good,fl_progressive:steep/https%3A%2F%2Fsubstack-post-media.s3.amazonaws.com%2Fpublic%2Fimages%2Fc5dc1fee-2d1e-4892-b219-4b96f6998ab5_288x288.png']\n",
      "    - Struggling with data chunking in RAG? Discover why it's crucial for efficiency and accuracy in data retrieval processes., media: ['https://substackcdn.com/image/fetch/w_80,c_limit,f_auto,q_auto:good,fl_progressive:steep/https%3A%2F%2Fsubstack-post-media.s3.amazonaws.com%2Fpublic%2Fimages%2F8a269236-7a9b-411c-ad03-12bd3a7f6d30_1984x1488.jpeg']\n",
      "    - Let's explore some innovative chunking strategies that can optimize your RAG model's performance. 📊, media: ['https://substackcdn.com/image/fetch/w_1456,c_limit,f_auto,q_auto:good,fl_lossy/https%3A%2F%2Fsubstack-post-media.s3.amazonaws.com%2Fpublic%2Fimages%2F6878b8fa-5e74-45a1-9a89-5aab92889126_2366x990.gif']\n",
      "    - 1. Fixed-size Chunking: Simple yet effective. Ideal for uniform datasets. Learn when to apply this basic strategy., media: ['https://substackcdn.com/image/fetch/w_1456,c_limit,f_auto,q_auto:good,fl_progressive:steep/https%3A%2F%2Fsubstack-post-media.s3.amazonaws.com%2Fpublic%2Fimages%2Fdeab4ef3-d3ec-4459-8004-ceffe81652ca_1829x392.png']\n",
      "    - 2. Semantic Chunking: Group data based on meaning. Perfect for diverse datasets, enhancing the context understanding. 🧠, media: ['https://substackcdn.com/image/fetch/w_1456,c_limit,f_auto,q_auto:good,fl_progressive:steep/https%3A%2F%2Fsubstack-post-media.s3.amazonaws.com%2Fpublic%2Fimages%2F92c70184-ba0f-4877-9a55-e4add0e311ad_870x1116.gif']\n",
      "    - 3. Overlapping Chunking: Ensure no data is missed by overlapping chunks. Useful in scenarios with crucial boundary information., media: ['https://substackcdn.com/image/fetch/w_1456,c_limit,f_auto,q_auto:good,fl_progressive:steep/https%3A%2F%2Fsubstack-post-media.s3.amazonaws.com%2Fpublic%2Fimages%2F98c422a0-f0e2-457c-a256-4476a56a601f_943x232.png']\n",
      "    - 4. Dynamic Chunking: Adapt chunk sizes in real-time based on data importance. A game-changer for real-time applications! ⚡, media: ['https://substackcdn.com/image/fetch/w_1456,c_limit,f_auto,q_auto:good,fl_progressive:steep/https%3A%2F%2Fsubstack-post-media.s3.amazonaws.com%2Fpublic%2Fimages%2Fa6ad83a6-2879-4c77-9e49-393f16577aef_1066x288.gif']\n",
      "    - 5. Hybrid Chunking: Combine strategies for tailored solutions. The flexibility to suit any dataset's needs., media: ['https://substackcdn.com/image/fetch/w_1456,c_limit,f_auto,q_auto:good,fl_progressive:steep/https%3A%2F%2Fsubstack-post-media.s3.amazonaws.com%2Fpublic%2Fimages%2F74037e11-362d-4ea2-8ee2-ee85ab013523_963x231.png']\n",
      "    - Each strategy has its unique advantages. Choose based on your data type and processing requirements. 🔍, media: ['https://substackcdn.com/image/fetch/w_1456,c_limit,f_auto,q_auto:good,fl_progressive:steep/https%3A%2F%2Fsubstack-post-media.s3.amazonaws.com%2Fpublic%2Fimages%2Ff4009caa-34fc-48d6-8102-3d0f6f2c1386_1066x316.gif']\n",
      "    - Implementing the right chunking strategy can significantly boost your RAG model's efficiency and accuracy., media: ['https://substackcdn.com/image/fetch/w_1456,c_limit,f_auto,q_auto:good,fl_progressive:steep/https%3A%2F%2Fsubstack-post-media.s3.amazonaws.com%2Fpublic%2Fimages%2Fb0e40cc1-996f-48f4-9306-781b112536e4_984x428.png']\n",
      "    - Ready to optimize your data retrieval with advanced chunking strategies? Let's put theory into practice! 🚀, media: ['https://substackcdn.com/image/fetch/w_1456,c_limit,f_auto,q_auto:good,fl_progressive:steep/https%3A%2F%2Fsubstack-post-media.s3.amazonaws.com%2Fpublic%2Fimages%2Fe8febecd-ee68-42ff-ab06-41a0a3a43cd3_1102x306.gif']\n",
      "Thread saved to: thread\\5 Chunking Strategies For RAG - by Avi Chawla.md_twitter.json\n",
      "# Publishing thread for: workdir\\5 Chunking Strategies For RAG - by Avi Chawla.md\n",
      "######## Thread JSON:  {'topic': '5 Chunking Strategies For RAG', 'tweets': [{'content': '5 Chunking Strategies For RAG', 'is_hook': True, 'media_urls': ['https://substackcdn.com/image/fetch/w_96,c_limit,f_auto,q_auto:good,fl_progressive:steep/https%3A%2F%2Fsubstack-post-media.s3.amazonaws.com%2Fpublic%2Fimages%2Fc5dc1fee-2d1e-4892-b219-4b96f6998ab5_288x288.png']}, {'content': \"Struggling with data chunking in RAG? Discover why it's crucial for efficiency and accuracy in data retrieval processes.\", 'is_hook': False, 'media_urls': ['https://substackcdn.com/image/fetch/w_80,c_limit,f_auto,q_auto:good,fl_progressive:steep/https%3A%2F%2Fsubstack-post-media.s3.amazonaws.com%2Fpublic%2Fimages%2F8a269236-7a9b-411c-ad03-12bd3a7f6d30_1984x1488.jpeg']}, {'content': \"Let's explore some innovative chunking strategies that can optimize your RAG model's performance. 📊\", 'is_hook': False, 'media_urls': ['https://substackcdn.com/image/fetch/w_1456,c_limit,f_auto,q_auto:good,fl_lossy/https%3A%2F%2Fsubstack-post-media.s3.amazonaws.com%2Fpublic%2Fimages%2F6878b8fa-5e74-45a1-9a89-5aab92889126_2366x990.gif']}, {'content': '1. Fixed-size Chunking: Simple yet effective. Ideal for uniform datasets. Learn when to apply this basic strategy.', 'is_hook': False, 'media_urls': ['https://substackcdn.com/image/fetch/w_1456,c_limit,f_auto,q_auto:good,fl_progressive:steep/https%3A%2F%2Fsubstack-post-media.s3.amazonaws.com%2Fpublic%2Fimages%2Fdeab4ef3-d3ec-4459-8004-ceffe81652ca_1829x392.png']}, {'content': '2. Semantic Chunking: Group data based on meaning. Perfect for diverse datasets, enhancing the context understanding. 🧠', 'is_hook': False, 'media_urls': ['https://substackcdn.com/image/fetch/w_1456,c_limit,f_auto,q_auto:good,fl_progressive:steep/https%3A%2F%2Fsubstack-post-media.s3.amazonaws.com%2Fpublic%2Fimages%2F92c70184-ba0f-4877-9a55-e4add0e311ad_870x1116.gif']}, {'content': '3. Overlapping Chunking: Ensure no data is missed by overlapping chunks. Useful in scenarios with crucial boundary information.', 'is_hook': False, 'media_urls': ['https://substackcdn.com/image/fetch/w_1456,c_limit,f_auto,q_auto:good,fl_progressive:steep/https%3A%2F%2Fsubstack-post-media.s3.amazonaws.com%2Fpublic%2Fimages%2F98c422a0-f0e2-457c-a256-4476a56a601f_943x232.png']}, {'content': '4. Dynamic Chunking: Adapt chunk sizes in real-time based on data importance. A game-changer for real-time applications! ⚡', 'is_hook': False, 'media_urls': ['https://substackcdn.com/image/fetch/w_1456,c_limit,f_auto,q_auto:good,fl_progressive:steep/https%3A%2F%2Fsubstack-post-media.s3.amazonaws.com%2Fpublic%2Fimages%2Fa6ad83a6-2879-4c77-9e49-393f16577aef_1066x288.gif']}, {'content': \"5. Hybrid Chunking: Combine strategies for tailored solutions. The flexibility to suit any dataset's needs.\", 'is_hook': False, 'media_urls': ['https://substackcdn.com/image/fetch/w_1456,c_limit,f_auto,q_auto:good,fl_progressive:steep/https%3A%2F%2Fsubstack-post-media.s3.amazonaws.com%2Fpublic%2Fimages%2F74037e11-362d-4ea2-8ee2-ee85ab013523_963x231.png']}, {'content': 'Each strategy has its unique advantages. Choose based on your data type and processing requirements. 🔍', 'is_hook': False, 'media_urls': ['https://substackcdn.com/image/fetch/w_1456,c_limit,f_auto,q_auto:good,fl_progressive:steep/https%3A%2F%2Fsubstack-post-media.s3.amazonaws.com%2Fpublic%2Fimages%2Ff4009caa-34fc-48d6-8102-3d0f6f2c1386_1066x316.gif']}, {'content': \"Implementing the right chunking strategy can significantly boost your RAG model's efficiency and accuracy.\", 'is_hook': False, 'media_urls': ['https://substackcdn.com/image/fetch/w_1456,c_limit,f_auto,q_auto:good,fl_progressive:steep/https%3A%2F%2Fsubstack-post-media.s3.amazonaws.com%2Fpublic%2Fimages%2Fb0e40cc1-996f-48f4-9306-781b112536e4_984x428.png']}, {'content': \"Ready to optimize your data retrieval with advanced chunking strategies? Let's put theory into practice! 🚀\", 'is_hook': False, 'media_urls': ['https://substackcdn.com/image/fetch/w_1456,c_limit,f_auto,q_auto:good,fl_progressive:steep/https%3A%2F%2Fsubstack-post-media.s3.amazonaws.com%2Fpublic%2Fimages%2Fe8febecd-ee68-42ff-ab06-41a0a3a43cd3_1102x306.gif']}]}\n",
      "Thread scheduled successfully!\n",
      "# Thread scheduled for: workdir\\5 Chunking Strategies For RAG - by Avi Chawla.md\n",
      "Here's the link to scheduled draft: https://typefully.com/t/xAvRiZG\n"
     ]
    }
   ],
   "source": [
    "\n",
    "flow.kickoff()\n"
   ]
  },
  {
   "cell_type": "code",
   "execution_count": 150,
   "metadata": {},
   "outputs": [],
   "source": [
    "flow = CreateContentPlanningFlow()\n"
   ]
  },
  {
   "cell_type": "code",
   "execution_count": 151,
   "metadata": {},
   "outputs": [
    {
     "data": {
      "text/plain": [
       "ContentPlanningState(blog_post_url='https://blog.dailydoseofds.com/p/5-chunking-strategies-for-rag', draft_path='workdir/', post_type='twitter', path_to_example_threads='workdir/example_threads.txt')"
      ]
     },
     "execution_count": 151,
     "metadata": {},
     "output_type": "execute_result"
    }
   ],
   "source": [
    "flow.state"
   ]
  },
  {
   "cell_type": "code",
   "execution_count": null,
   "metadata": {},
   "outputs": [],
   "source": []
  },
  {
   "cell_type": "code",
   "execution_count": null,
   "metadata": {},
   "outputs": [],
   "source": []
  }
 ],
 "metadata": {
  "kernelspec": {
   "display_name": "venv",
   "language": "python",
   "name": "python3"
  },
  "language_info": {
   "codemirror_mode": {
    "name": "ipython",
    "version": 3
   },
   "file_extension": ".py",
   "mimetype": "text/x-python",
   "name": "python",
   "nbconvert_exporter": "python",
   "pygments_lexer": "ipython3",
   "version": "3.11.5"
  }
 },
 "nbformat": 4,
 "nbformat_minor": 4
}
